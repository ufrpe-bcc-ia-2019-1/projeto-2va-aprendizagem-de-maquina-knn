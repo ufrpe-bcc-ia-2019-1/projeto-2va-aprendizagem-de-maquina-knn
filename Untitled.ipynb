{
 "cells": [
  {
   "cell_type": "code",
   "execution_count": 1,
   "metadata": {},
   "outputs": [],
   "source": [
    "#-*- coding: utf-8 -*-\n",
    "import csv\n",
    "import random\n",
    "import math\n",
    "import operator\n",
    "import scipy as sp\n",
    "from scipy.spatial import distance\n",
    "\n",
    "def carregarBancoDeDados(nomeArquivo, dividir, conjuntoTreino=[], conjuntoTeste=[]):\t#Esta funação vai carregar o banco de dados\n",
    "    with open(nomeArquivo, 'rb') as csvfile:\t\t\t\t\t\t\t\t\t\t#Também vai dividir aleatoriamente a base de dados em conjunto de treinamento e testes\n",
    "        linhas = csv.reader(csvfile)\n",
    "        conjuntoDeDados = list(linhas)\n",
    "        for x in range(len(conjuntoDeDados) - 1):\t\t\t\t\t\t\t\t#tamanho do conjunto de dados é a quantidade de linhas\n",
    "            for y in range(784):\t\t\t\t\t\t\t\t\t\t\t\t#784 é o tamanho do vetor, pois cada pixel da imagem representa uma posição do vetor\n",
    "                conjuntoDeDados[x][y] = float(conjuntoDeDados[x][y])\n",
    "            if random.random() < dividir:\n",
    "                conjuntoTreino.append(conjuntoDeDados[x])\n",
    "            else:\n",
    "                conjuntoTeste.append(conjuntoDeDados[x])\n"
   ]
  },
  {
   "cell_type": "code",
   "execution_count": null,
   "metadata": {},
   "outputs": [],
   "source": []
  },
  {
   "cell_type": "code",
   "execution_count": null,
   "metadata": {},
   "outputs": [],
   "source": []
  }
 ],
 "metadata": {
  "kernelspec": {
   "display_name": "Python 3",
   "language": "python",
   "name": "python3"
  },
  "language_info": {
   "codemirror_mode": {
    "name": "ipython",
    "version": 3
   },
   "file_extension": ".py",
   "mimetype": "text/x-python",
   "name": "python",
   "nbconvert_exporter": "python",
   "pygments_lexer": "ipython3",
   "version": "3.7.3"
  }
 },
 "nbformat": 4,
 "nbformat_minor": 2
}
